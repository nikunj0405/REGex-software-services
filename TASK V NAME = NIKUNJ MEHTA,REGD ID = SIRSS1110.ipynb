{
 "cells": [
  {
   "cell_type": "code",
   "execution_count": 10,
   "metadata": {},
   "outputs": [
    {
     "name": "stdout",
     "output_type": "stream",
     "text": [
      "162\n"
     ]
    }
   ],
   "source": [
    "###Q1. Given a list of integers, write a function to return the sum of all prime numbers in that list.###\n",
    "\n",
    "def isprime(n):\n",
    "    if n==1:\n",
    "        return 0\n",
    "    for i in range(2,int(n**(0.5))+1):\n",
    "        if n%i==0:\n",
    "            return 0\n",
    "    else:\n",
    "        return 1\n",
    "list1=[12,123,23,43,45,56,78,87,89,6,7]\n",
    "sum=0\n",
    "for i in list1:\n",
    "    if isprime(i)==1:\n",
    "        sum+=i\n",
    "print(sum)"
   ]
  },
  {
   "cell_type": "code",
   "execution_count": 12,
   "metadata": {},
   "outputs": [
    {
     "name": "stdout",
     "output_type": "stream",
     "text": [
      "True\n"
     ]
    }
   ],
   "source": [
    "###Q2. Given a list of integers, write a function to check whether the list is strictly increasing or not.###\n",
    "\n",
    "list1=[1,2,3,4,5,6,7]\n",
    "templist=[]\n",
    "temp=0\n",
    "flag=-1\n",
    "for i in list1:\n",
    "    if (i not in templist) & (i>temp):\n",
    "        flag=1\n",
    "        templist.append(i)\n",
    "        temp=i\n",
    "    else:\n",
    "        flag=0\n",
    "        break\n",
    "if flag==1:\n",
    "    print(\"True\")\n",
    "else:\n",
    "    print(\"False\")"
   ]
  },
  {
   "cell_type": "code",
   "execution_count": 13,
   "metadata": {},
   "outputs": [
    {
     "name": "stdout",
     "output_type": "stream",
     "text": [
      "False\n"
     ]
    }
   ],
   "source": [
    "###Q3. Write a function to check whether a given list is expanding or not.###\n",
    "\n",
    "list1=[12,13,14,15,56,67,78]\n",
    "prev=-1\n",
    "present=0\n",
    "flag=-1\n",
    "for i in range(len(list1)-1):\n",
    "    present=list1[i+1]-list1[i]\n",
    "    if present> prev:\n",
    "        flag=1\n",
    "        prev=present\n",
    "    else:\n",
    "        flag=0\n",
    "        break\n",
    "if flag==1:\n",
    "    print(\"True\")\n",
    "else:\n",
    "    print(\"False\")"
   ]
  },
  {
   "cell_type": "code",
   "execution_count": 14,
   "metadata": {},
   "outputs": [
    {
     "name": "stdout",
     "output_type": "stream",
     "text": [
      "DON\n",
      "DNO\n",
      "ODN\n",
      "OND\n",
      "NOD\n",
      "NDO\n"
     ]
    }
   ],
   "source": [
    "###Q4. Write a function to calculate all permutations of a given string. (Without using itertools).###\n",
    "\n",
    "def toString(List):\n",
    "    return ''.join(List)\n",
    "def permute(a, l, r):\n",
    "    if l==r:\n",
    "        print (toString(a))\n",
    "    else:\n",
    "        for i in range(l,r+1):\n",
    "            a[l], a[i] = a[i], a[l]\n",
    "            permute(a, l+1, r)\n",
    "            a[l], a[i] = a[i], a[l] \n",
    "\n",
    "string = \"DON\"\n",
    "n = len(string)\n",
    "a = list(string)\n",
    "permute(a, 0, n-1)"
   ]
  },
  {
   "cell_type": "code",
   "execution_count": null,
   "metadata": {},
   "outputs": [],
   "source": []
  }
 ],
 "metadata": {
  "kernelspec": {
   "display_name": "Python 3",
   "language": "python",
   "name": "python3"
  },
  "language_info": {
   "codemirror_mode": {
    "name": "ipython",
    "version": 3
   },
   "file_extension": ".py",
   "mimetype": "text/x-python",
   "name": "python",
   "nbconvert_exporter": "python",
   "pygments_lexer": "ipython3",
   "version": "3.8.5"
  }
 },
 "nbformat": 4,
 "nbformat_minor": 4
}
