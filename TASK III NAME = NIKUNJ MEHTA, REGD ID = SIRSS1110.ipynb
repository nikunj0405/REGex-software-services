{
 "cells": [
  {
   "cell_type": "code",
   "execution_count": 6,
   "metadata": {},
   "outputs": [
    {
     "name": "stdout",
     "output_type": "stream",
     "text": [
      "Enter a Number : 17\n"
     ]
    }
   ],
   "source": [
    "###Write a function to return nth term of Fibonacci sequence.###\n",
    "def fibo(i) :\n",
    "    if i <= 1 :\n",
    "        return i\n",
    "    else : \n",
    "        return (fibo(i-1) + fibo(i-2))\n",
    "    \n",
    "n = int(input(\"Enter a Number : \"))\n",
    "\n",
    "if n < 0 :\n",
    "    print(\"Please Enter Positive Number \")\n",
    "else :\n",
    "    for i in range(n) :\n",
    "        a = fibo(i)"
   ]
  },
  {
   "cell_type": "code",
   "execution_count": 7,
   "metadata": {},
   "outputs": [
    {
     "name": "stdout",
     "output_type": "stream",
     "text": [
      "987\n"
     ]
    }
   ],
   "source": [
    "print(a)"
   ]
  },
  {
   "cell_type": "code",
   "execution_count": 8,
   "metadata": {},
   "outputs": [
    {
     "name": "stdout",
     "output_type": "stream",
     "text": [
      "Enter first Number : 24\n",
      "Enter second Number : 45\n",
      "GCD of (24,45) =  3\n"
     ]
    }
   ],
   "source": [
    "###Write a function to find out GCD of two numbers using EUCLID'S algorithm.###\n",
    "\n",
    "def gcd(c1, c2) :\n",
    "    if c2 == 0 :\n",
    "        return c1\n",
    "    else :\n",
    "        return gcd(c2, c1 % c2)\n",
    "        \n",
    "inp1 = int(input(\"Enter first Number : \"))\n",
    "inp2 = int(input(\"Enter second Number : \"))\n",
    "\n",
    "print(f\"GCD of ({inp1},{inp2}) = \", gcd(inp1, inp2))"
   ]
  },
  {
   "cell_type": "code",
   "execution_count": 9,
   "metadata": {},
   "outputs": [
    {
     "name": "stdout",
     "output_type": "stream",
     "text": [
      "Enter first Number : 25\n",
      "Enter second Number : 35\n",
      "LCM of (25,35) =  175.0\n"
     ]
    }
   ],
   "source": [
    "###Write a function to find LCM of two number in most optimizers way.###\n",
    "\n",
    "def gcd(c1, c2) :\n",
    "    if c2 == 0 :\n",
    "        return c1\n",
    "    else :\n",
    "        return gcd(c2, c1 % c2)\n",
    "    \n",
    "def lcm(c1, c2) :\n",
    "    return (c1 / gcd(c1,c2)) * c2\n",
    "\n",
    "inp1 = int(input(\"Enter first Number : \"))\n",
    "inp2 = int(input(\"Enter second Number : \"))\n",
    "\n",
    "print(f\"LCM of ({inp1},{inp2}) = \", lcm(inp1, inp2))\n"
   ]
  },
  {
   "cell_type": "code",
   "execution_count": null,
   "metadata": {},
   "outputs": [],
   "source": []
  }
 ],
 "metadata": {
  "kernelspec": {
   "display_name": "Python 3",
   "language": "python",
   "name": "python3"
  },
  "language_info": {
   "codemirror_mode": {
    "name": "ipython",
    "version": 3
   },
   "file_extension": ".py",
   "mimetype": "text/x-python",
   "name": "python",
   "nbconvert_exporter": "python",
   "pygments_lexer": "ipython3",
   "version": "3.8.5"
  }
 },
 "nbformat": 4,
 "nbformat_minor": 4
}
