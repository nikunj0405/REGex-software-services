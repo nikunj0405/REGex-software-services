{
 "cells": [
  {
   "cell_type": "code",
   "execution_count": 1,
   "metadata": {},
   "outputs": [
    {
     "data": {
      "text/plain": [
       "'nikunj'"
      ]
     },
     "execution_count": 1,
     "metadata": {},
     "output_type": "execute_result"
    }
   ],
   "source": [
    "###Write a lambda expression to extract first word of a string.###\n",
    "\n",
    "l=lambda s:s.split()[0]\n",
    "s='nikunj mehta'\n",
    "l(s)\n"
   ]
  },
  {
   "cell_type": "code",
   "execution_count": 2,
   "metadata": {},
   "outputs": [
    {
     "data": {
      "text/plain": [
       "'crime'"
      ]
     },
     "execution_count": 2,
     "metadata": {},
     "output_type": "execute_result"
    }
   ],
   "source": [
    "###Write a function to extract first word of s string (with many words separated by space).###\n",
    "\n",
    "def n(s):\n",
    "    return s.split()[0]\n",
    "n('crime master gogo')"
   ]
  },
  {
   "cell_type": "code",
   "execution_count": 3,
   "metadata": {},
   "outputs": [
    {
     "data": {
      "text/plain": [
       "['jonny', 'eating', 'telling', 'open']"
      ]
     },
     "execution_count": 3,
     "metadata": {},
     "output_type": "execute_result"
    }
   ],
   "source": [
    "###Extract the first word from every string from a list of strings by using map function.###\n",
    "\n",
    "def n(s):\n",
    "    return s.split()[0]\n",
    "list1 =['jonny jonny yes papa',\n",
    "      'eating sugar no papa',\n",
    "       'telling liar no papa',\n",
    "      'open your mouth ha ha ha']\n",
    "list(map(n,list1))"
   ]
  },
  {
   "cell_type": "code",
   "execution_count": 4,
   "metadata": {},
   "outputs": [
    {
     "name": "stdout",
     "output_type": "stream",
     "text": [
      "88\n"
     ]
    },
    {
     "data": {
      "text/plain": [
       "[2, 2, 2, 11]"
      ]
     },
     "execution_count": 4,
     "metadata": {},
     "output_type": "execute_result"
    }
   ],
   "source": [
    "###Write a function to return a list of prime factors of a given number.###\n",
    "\n",
    "def prime(n):\n",
    "    if n==0 or n==1:\n",
    "        return False\n",
    "\n",
    "    else:\n",
    "        for i in range(2,int(n**0.5)+1):\n",
    "            if n%i==0:\n",
    "                return False\n",
    "                break\n",
    "        else:\n",
    "            return True\n",
    "        \n",
    "def primeFactors(n):\n",
    "    pfact = []\n",
    "    i = 2\n",
    "    while n>1:\n",
    "        if n % i == 0 and prime(i):\n",
    "            pfact.append(i)\n",
    "            n = n//i\n",
    "        else : \n",
    "            i+=1\n",
    "    return pfact\n",
    "primeFactors(int(input()))"
   ]
  },
  {
   "cell_type": "code",
   "execution_count": 5,
   "metadata": {},
   "outputs": [
    {
     "name": "stdout",
     "output_type": "stream",
     "text": [
      "41 23 33 43  225 345 456 33\n",
      "345\n"
     ]
    }
   ],
   "source": [
    "###Write a function that finds 2nd largest among 4 numbers (Repetitions are allowed,without sorting).###\n",
    "\n",
    "def secondlarge(l):\n",
    "    new_list=set(l)\n",
    "    new_list.remove(max(new_list))\n",
    "    print(max(new_list))\n",
    "l=[int(i)for i in input().split()]\n",
    "secondlarge(l)"
   ]
  },
  {
   "cell_type": "code",
   "execution_count": null,
   "metadata": {},
   "outputs": [],
   "source": []
  }
 ],
 "metadata": {
  "kernelspec": {
   "display_name": "Python 3",
   "language": "python",
   "name": "python3"
  },
  "language_info": {
   "codemirror_mode": {
    "name": "ipython",
    "version": 3
   },
   "file_extension": ".py",
   "mimetype": "text/x-python",
   "name": "python",
   "nbconvert_exporter": "python",
   "pygments_lexer": "ipython3",
   "version": "3.8.5"
  }
 },
 "nbformat": 4,
 "nbformat_minor": 4
}
